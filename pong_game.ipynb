{
 "cells": [
  {
   "cell_type": "code",
   "execution_count": 1,
   "id": "7c755dfd",
   "metadata": {},
   "outputs": [],
   "source": [
    "from turtle import Screen,Turtle "
   ]
  },
  {
   "cell_type": "code",
   "execution_count": 2,
   "id": "b773b0e3",
   "metadata": {},
   "outputs": [],
   "source": [
    "import time"
   ]
  },
  {
   "cell_type": "code",
   "execution_count": 3,
   "id": "666312f6",
   "metadata": {},
   "outputs": [],
   "source": [
    "screen = Screen()\n",
    "screen.bgcolor(\"black\")\n",
    "screen.setup(width = 800, height = 600)\n",
    "screen.title(\"pong\")\n",
    "screen.tracer(0)"
   ]
  },
  {
   "cell_type": "code",
   "execution_count": 4,
   "id": "d80ef20a",
   "metadata": {},
   "outputs": [],
   "source": [
    "class Paddle(Turtle):\n",
    "    def __init__(self, position):\n",
    "        super().__init__()\n",
    "        self.shape(\"square\")\n",
    "        self.color(\"white\")\n",
    "        self.shapesize(stretch_wid = 5, stretch_len = 1)\n",
    "        self.penup()\n",
    "        self.goto(position)\n",
    "    def go_up(self):\n",
    "        new_y = self.ycor()+20\n",
    "        self.goto(self.xcor() ,new_y)\n",
    "    \n",
    "    def go_down(self):\n",
    "        new_y = self.ycor()-20\n",
    "        self.goto(self.xcor() ,new_y)"
   ]
  },
  {
   "cell_type": "code",
   "execution_count": 5,
   "id": "df397eca",
   "metadata": {},
   "outputs": [],
   "source": [
    "r_paddle = Paddle((350,0))\n",
    "l_paddle = Paddle((-350,0))"
   ]
  },
  {
   "cell_type": "code",
   "execution_count": 6,
   "id": "efdd1474",
   "metadata": {},
   "outputs": [],
   "source": [
    "screen.listen()\n",
    "screen.onkey(r_paddle.go_up,\"Up\")\n",
    "screen.onkey(r_paddle.go_down,\"Down\")\n",
    "\n",
    "screen.onkey(l_paddle.go_up,\"w\")\n",
    "screen.onkey(l_paddle.go_down,\"s\")"
   ]
  },
  {
   "cell_type": "code",
   "execution_count": 7,
   "id": "cee50e92",
   "metadata": {},
   "outputs": [],
   "source": [
    "class Ball(Turtle):\n",
    "    def __init__(self):\n",
    "        super().__init__()\n",
    "        self.color(\"white\")\n",
    "        self.shape(\"circle\")\n",
    "        self.penup()\n",
    "        self.x_move = 10\n",
    "        self.y_move = 10\n",
    "        self.move_speed = 0.1\n",
    "    def move(self):\n",
    "        new_x = self.xcor() + self.x_move\n",
    "        new_y = self.ycor() + self.y_move\n",
    "        self.goto(new_x,new_y)\n",
    "    def bounce_y(self):\n",
    "        self.y_move *= -1\n",
    "    def bounce_x(self):\n",
    "        self.x_move *= -1\n",
    "        self.move_speed *= 0.9\n",
    "    def reset(self):\n",
    "        self.goto(0,0)\n",
    "        self.move_speed = 0.1\n",
    "        self.bounce_x()"
   ]
  },
  {
   "cell_type": "code",
   "execution_count": 8,
   "id": "c547437a",
   "metadata": {},
   "outputs": [],
   "source": [
    "ball = Ball()"
   ]
  },
  {
   "cell_type": "code",
   "execution_count": 9,
   "id": "09974fd2",
   "metadata": {},
   "outputs": [],
   "source": [
    "class ScoreBoard(Turtle):\n",
    "    def __init__(self):\n",
    "        super().__init__()\n",
    "        self.color(\"white\")\n",
    "        self.penup()\n",
    "        self.hideturtle()\n",
    "        self.lscore = 0 \n",
    "        self.rscore = 0\n",
    "        self.update_score()\n",
    "    def update_score(self):\n",
    "        self.clear()\n",
    "        self.goto(-100,200)\n",
    "        self.write(self.lscore, align = \"center\", font = (\"Courier\",60, \"normal\"))\n",
    "        self.goto(100,200)\n",
    "        self.write(self.rscore, align = \"center\", font = (\"Courier\",60, \"normal\"))\n",
    "    def l_point(self):\n",
    "        self.lscore+=1\n",
    "        self.update_score()\n",
    "    def r_point(self):\n",
    "        self.rscore+=1\n",
    "        self.update_score()"
   ]
  },
  {
   "cell_type": "code",
   "execution_count": 10,
   "id": "ac8b5294",
   "metadata": {},
   "outputs": [],
   "source": [
    "scr = ScoreBoard()"
   ]
  },
  {
   "cell_type": "code",
   "execution_count": 11,
   "id": "773a5828",
   "metadata": {},
   "outputs": [
    {
     "ename": "TclError",
     "evalue": "invalid command name \".!canvas\"",
     "output_type": "error",
     "traceback": [
      "\u001b[1;31m---------------------------------------------------------------------------\u001b[0m",
      "\u001b[1;31mTclError\u001b[0m                                  Traceback (most recent call last)",
      "\u001b[1;32m~\\AppData\\Local\\Temp/ipykernel_20676/1376091826.py\u001b[0m in \u001b[0;36m<module>\u001b[1;34m\u001b[0m\n\u001b[0;32m      3\u001b[0m     \u001b[0mtime\u001b[0m\u001b[1;33m.\u001b[0m\u001b[0msleep\u001b[0m\u001b[1;33m(\u001b[0m\u001b[0mball\u001b[0m\u001b[1;33m.\u001b[0m\u001b[0mmove_speed\u001b[0m\u001b[1;33m)\u001b[0m\u001b[1;33m\u001b[0m\u001b[1;33m\u001b[0m\u001b[0m\n\u001b[0;32m      4\u001b[0m     \u001b[0mscreen\u001b[0m\u001b[1;33m.\u001b[0m\u001b[0mupdate\u001b[0m\u001b[1;33m(\u001b[0m\u001b[1;33m)\u001b[0m\u001b[1;33m\u001b[0m\u001b[1;33m\u001b[0m\u001b[0m\n\u001b[1;32m----> 5\u001b[1;33m     \u001b[0mball\u001b[0m\u001b[1;33m.\u001b[0m\u001b[0mmove\u001b[0m\u001b[1;33m(\u001b[0m\u001b[1;33m)\u001b[0m\u001b[1;33m\u001b[0m\u001b[1;33m\u001b[0m\u001b[0m\n\u001b[0m\u001b[0;32m      6\u001b[0m \u001b[1;33m\u001b[0m\u001b[0m\n\u001b[0;32m      7\u001b[0m     \u001b[1;31m#detect collision with the wall\u001b[0m\u001b[1;33m\u001b[0m\u001b[1;33m\u001b[0m\u001b[0m\n",
      "\u001b[1;32m~\\AppData\\Local\\Temp/ipykernel_20676/1698896494.py\u001b[0m in \u001b[0;36mmove\u001b[1;34m(self)\u001b[0m\n\u001b[0;32m     11\u001b[0m         \u001b[0mnew_x\u001b[0m \u001b[1;33m=\u001b[0m \u001b[0mself\u001b[0m\u001b[1;33m.\u001b[0m\u001b[0mxcor\u001b[0m\u001b[1;33m(\u001b[0m\u001b[1;33m)\u001b[0m \u001b[1;33m+\u001b[0m \u001b[0mself\u001b[0m\u001b[1;33m.\u001b[0m\u001b[0mx_move\u001b[0m\u001b[1;33m\u001b[0m\u001b[1;33m\u001b[0m\u001b[0m\n\u001b[0;32m     12\u001b[0m         \u001b[0mnew_y\u001b[0m \u001b[1;33m=\u001b[0m \u001b[0mself\u001b[0m\u001b[1;33m.\u001b[0m\u001b[0mycor\u001b[0m\u001b[1;33m(\u001b[0m\u001b[1;33m)\u001b[0m \u001b[1;33m+\u001b[0m \u001b[0mself\u001b[0m\u001b[1;33m.\u001b[0m\u001b[0my_move\u001b[0m\u001b[1;33m\u001b[0m\u001b[1;33m\u001b[0m\u001b[0m\n\u001b[1;32m---> 13\u001b[1;33m         \u001b[0mself\u001b[0m\u001b[1;33m.\u001b[0m\u001b[0mgoto\u001b[0m\u001b[1;33m(\u001b[0m\u001b[0mnew_x\u001b[0m\u001b[1;33m,\u001b[0m\u001b[0mnew_y\u001b[0m\u001b[1;33m)\u001b[0m\u001b[1;33m\u001b[0m\u001b[1;33m\u001b[0m\u001b[0m\n\u001b[0m\u001b[0;32m     14\u001b[0m     \u001b[1;32mdef\u001b[0m \u001b[0mbounce_y\u001b[0m\u001b[1;33m(\u001b[0m\u001b[0mself\u001b[0m\u001b[1;33m)\u001b[0m\u001b[1;33m:\u001b[0m\u001b[1;33m\u001b[0m\u001b[1;33m\u001b[0m\u001b[0m\n\u001b[0;32m     15\u001b[0m         \u001b[0mself\u001b[0m\u001b[1;33m.\u001b[0m\u001b[0my_move\u001b[0m \u001b[1;33m*=\u001b[0m \u001b[1;33m-\u001b[0m\u001b[1;36m1\u001b[0m\u001b[1;33m\u001b[0m\u001b[1;33m\u001b[0m\u001b[0m\n",
      "\u001b[1;32m~\\Downloads\\python anaconda install\\lib\\turtle.py\u001b[0m in \u001b[0;36mgoto\u001b[1;34m(self, x, y)\u001b[0m\n\u001b[0;32m   1775\u001b[0m             \u001b[0mself\u001b[0m\u001b[1;33m.\u001b[0m\u001b[0m_goto\u001b[0m\u001b[1;33m(\u001b[0m\u001b[0mVec2D\u001b[0m\u001b[1;33m(\u001b[0m\u001b[1;33m*\u001b[0m\u001b[0mx\u001b[0m\u001b[1;33m)\u001b[0m\u001b[1;33m)\u001b[0m\u001b[1;33m\u001b[0m\u001b[1;33m\u001b[0m\u001b[0m\n\u001b[0;32m   1776\u001b[0m         \u001b[1;32melse\u001b[0m\u001b[1;33m:\u001b[0m\u001b[1;33m\u001b[0m\u001b[1;33m\u001b[0m\u001b[0m\n\u001b[1;32m-> 1777\u001b[1;33m             \u001b[0mself\u001b[0m\u001b[1;33m.\u001b[0m\u001b[0m_goto\u001b[0m\u001b[1;33m(\u001b[0m\u001b[0mVec2D\u001b[0m\u001b[1;33m(\u001b[0m\u001b[0mx\u001b[0m\u001b[1;33m,\u001b[0m \u001b[0my\u001b[0m\u001b[1;33m)\u001b[0m\u001b[1;33m)\u001b[0m\u001b[1;33m\u001b[0m\u001b[1;33m\u001b[0m\u001b[0m\n\u001b[0m\u001b[0;32m   1778\u001b[0m \u001b[1;33m\u001b[0m\u001b[0m\n\u001b[0;32m   1779\u001b[0m     \u001b[1;32mdef\u001b[0m \u001b[0mhome\u001b[0m\u001b[1;33m(\u001b[0m\u001b[0mself\u001b[0m\u001b[1;33m)\u001b[0m\u001b[1;33m:\u001b[0m\u001b[1;33m\u001b[0m\u001b[1;33m\u001b[0m\u001b[0m\n",
      "\u001b[1;32m~\\Downloads\\python anaconda install\\lib\\turtle.py\u001b[0m in \u001b[0;36m_goto\u001b[1;34m(self, end)\u001b[0m\n\u001b[0;32m   3157\u001b[0m                       (self.currentLineItem,\n\u001b[0;32m   3158\u001b[0m                       \u001b[0mself\u001b[0m\u001b[1;33m.\u001b[0m\u001b[0mcurrentLine\u001b[0m\u001b[1;33m[\u001b[0m\u001b[1;33m:\u001b[0m\u001b[1;33m]\u001b[0m\u001b[1;33m,\u001b[0m\u001b[1;33m\u001b[0m\u001b[1;33m\u001b[0m\u001b[0m\n\u001b[1;32m-> 3159\u001b[1;33m                       \u001b[0mscreen\u001b[0m\u001b[1;33m.\u001b[0m\u001b[0m_pointlist\u001b[0m\u001b[1;33m(\u001b[0m\u001b[0mself\u001b[0m\u001b[1;33m.\u001b[0m\u001b[0mcurrentLineItem\u001b[0m\u001b[1;33m)\u001b[0m\u001b[1;33m,\u001b[0m\u001b[1;33m\u001b[0m\u001b[1;33m\u001b[0m\u001b[0m\n\u001b[0m\u001b[0;32m   3160\u001b[0m                       self.items[:])\n\u001b[0;32m   3161\u001b[0m                       )\n",
      "\u001b[1;32m~\\Downloads\\python anaconda install\\lib\\turtle.py\u001b[0m in \u001b[0;36m_pointlist\u001b[1;34m(self, item)\u001b[0m\n\u001b[0;32m    752\u001b[0m         (9.9999999999999982, 0.0)]\n\u001b[0;32m    753\u001b[0m         >>> \"\"\"\n\u001b[1;32m--> 754\u001b[1;33m         \u001b[0mcl\u001b[0m \u001b[1;33m=\u001b[0m \u001b[0mself\u001b[0m\u001b[1;33m.\u001b[0m\u001b[0mcv\u001b[0m\u001b[1;33m.\u001b[0m\u001b[0mcoords\u001b[0m\u001b[1;33m(\u001b[0m\u001b[0mitem\u001b[0m\u001b[1;33m)\u001b[0m\u001b[1;33m\u001b[0m\u001b[1;33m\u001b[0m\u001b[0m\n\u001b[0m\u001b[0;32m    755\u001b[0m         \u001b[0mpl\u001b[0m \u001b[1;33m=\u001b[0m \u001b[1;33m[\u001b[0m\u001b[1;33m(\u001b[0m\u001b[0mcl\u001b[0m\u001b[1;33m[\u001b[0m\u001b[0mi\u001b[0m\u001b[1;33m]\u001b[0m\u001b[1;33m,\u001b[0m \u001b[1;33m-\u001b[0m\u001b[0mcl\u001b[0m\u001b[1;33m[\u001b[0m\u001b[0mi\u001b[0m\u001b[1;33m+\u001b[0m\u001b[1;36m1\u001b[0m\u001b[1;33m]\u001b[0m\u001b[1;33m)\u001b[0m \u001b[1;32mfor\u001b[0m \u001b[0mi\u001b[0m \u001b[1;32min\u001b[0m \u001b[0mrange\u001b[0m\u001b[1;33m(\u001b[0m\u001b[1;36m0\u001b[0m\u001b[1;33m,\u001b[0m \u001b[0mlen\u001b[0m\u001b[1;33m(\u001b[0m\u001b[0mcl\u001b[0m\u001b[1;33m)\u001b[0m\u001b[1;33m,\u001b[0m \u001b[1;36m2\u001b[0m\u001b[1;33m)\u001b[0m\u001b[1;33m]\u001b[0m\u001b[1;33m\u001b[0m\u001b[1;33m\u001b[0m\u001b[0m\n\u001b[0;32m    756\u001b[0m         \u001b[1;32mreturn\u001b[0m  \u001b[0mpl\u001b[0m\u001b[1;33m\u001b[0m\u001b[1;33m\u001b[0m\u001b[0m\n",
      "\u001b[1;32m<string>\u001b[0m in \u001b[0;36mcoords\u001b[1;34m(self, *args, **kw)\u001b[0m\n",
      "\u001b[1;32m~\\Downloads\\python anaconda install\\lib\\tkinter\\__init__.py\u001b[0m in \u001b[0;36mcoords\u001b[1;34m(self, *args)\u001b[0m\n\u001b[0;32m   2764\u001b[0m         return [self.tk.getdouble(x) for x in\n\u001b[0;32m   2765\u001b[0m                            self.tk.splitlist(\n\u001b[1;32m-> 2766\u001b[1;33m                    self.tk.call((self._w, 'coords') + args))]\n\u001b[0m\u001b[0;32m   2767\u001b[0m \u001b[1;33m\u001b[0m\u001b[0m\n\u001b[0;32m   2768\u001b[0m     \u001b[1;32mdef\u001b[0m \u001b[0m_create\u001b[0m\u001b[1;33m(\u001b[0m\u001b[0mself\u001b[0m\u001b[1;33m,\u001b[0m \u001b[0mitemType\u001b[0m\u001b[1;33m,\u001b[0m \u001b[0margs\u001b[0m\u001b[1;33m,\u001b[0m \u001b[0mkw\u001b[0m\u001b[1;33m)\u001b[0m\u001b[1;33m:\u001b[0m \u001b[1;31m# Args: (val, val, ..., cnf={})\u001b[0m\u001b[1;33m\u001b[0m\u001b[1;33m\u001b[0m\u001b[0m\n",
      "\u001b[1;31mTclError\u001b[0m: invalid command name \".!canvas\""
     ]
    }
   ],
   "source": [
    "is_game_on = True\n",
    "while is_game_on:\n",
    "    time.sleep(ball.move_speed)\n",
    "    screen.update()\n",
    "    ball.move()\n",
    "    \n",
    "    #detect collision with the wall\n",
    "    if ball.ycor() > 280 or ball.ycor() < -280:\n",
    "        ball.bounce_y()\n",
    "    #detect collision with paddle\n",
    "    if ball.distance(r_paddle) < 50 and ball.xcor() > 320 or ball.distance(l_paddle) < 50 and ball.xcor() < -320:\n",
    "        ball.bounce_x()\n",
    "    #detect R paddle miss\n",
    "    if ball.xcor() > 380:\n",
    "        ball.reset()\n",
    "        scr.l_point()\n",
    "    #detect L paddle miss  \n",
    "    if ball.xcor() <-380:\n",
    "        ball.reset()\n",
    "        scr.r_point()\n",
    "        "
   ]
  },
  {
   "cell_type": "code",
   "execution_count": 23,
   "id": "e05b4fa8",
   "metadata": {},
   "outputs": [],
   "source": [
    "screen.exitonclick()"
   ]
  },
  {
   "cell_type": "code",
   "execution_count": null,
   "id": "2793dbf4",
   "metadata": {},
   "outputs": [],
   "source": []
  }
 ],
 "metadata": {
  "kernelspec": {
   "display_name": "Python 3 (ipykernel)",
   "language": "python",
   "name": "python3"
  },
  "language_info": {
   "codemirror_mode": {
    "name": "ipython",
    "version": 3
   },
   "file_extension": ".py",
   "mimetype": "text/x-python",
   "name": "python",
   "nbconvert_exporter": "python",
   "pygments_lexer": "ipython3",
   "version": "3.9.7"
  }
 },
 "nbformat": 4,
 "nbformat_minor": 5
}

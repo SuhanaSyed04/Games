{
 "cells": [
  {
   "cell_type": "code",
   "execution_count": 3,
   "id": "c85cdcfa",
   "metadata": {},
   "outputs": [],
   "source": [
    "from turtle import Turtle, Screen\n",
    "\n",
    "import time\n",
    "import random"
   ]
  },
  {
   "cell_type": "code",
   "execution_count": 4,
   "id": "fa16cf52",
   "metadata": {},
   "outputs": [],
   "source": [
    "screen = Screen()\n",
    "screen.setup(width = 600, height = 600)\n",
    "screen.bgcolor(\"black\")\n",
    "screen.title(\"My snake game\")\n",
    "screen.tracer(0)"
   ]
  },
  {
   "cell_type": "code",
   "execution_count": 5,
   "id": "bb75aa93",
   "metadata": {},
   "outputs": [],
   "source": [
    "starting_pos = [(0,0),(-20,0),(-40,0)]"
   ]
  },
  {
   "cell_type": "code",
   "execution_count": 6,
   "id": "7672f6a3",
   "metadata": {},
   "outputs": [],
   "source": [
    "segments = []"
   ]
  },
  {
   "cell_type": "code",
   "execution_count": 7,
   "id": "33d5fb4b",
   "metadata": {},
   "outputs": [],
   "source": [
    "def up():\n",
    "    if segments[0].heading() != 270:\n",
    "        segments[0].setheading(90)\n",
    "def down():\n",
    "    if segments[0].heading() != 90:\n",
    "        segments[0].setheading(270)\n",
    "def left():\n",
    "    if segments[0].heading() != 0:\n",
    "        segments[0].setheading(180)\n",
    "def right():\n",
    "    if segments[0].heading() != 180:\n",
    "        segments[0].setheading(0)\n",
    "        \n",
    "screen.listen()\n",
    "screen.onkey(up,\"Up\")\n",
    "screen.onkey(down,\"Down\")\n",
    "screen.onkey(left,\"Left\")\n",
    "screen.onkey(right,\"Right\")"
   ]
  },
  {
   "cell_type": "code",
   "execution_count": 8,
   "id": "6fac2318",
   "metadata": {},
   "outputs": [],
   "source": [
    "def add_segment(position):\n",
    "    new_seg = Turtle(\"square\")\n",
    "    new_seg.color(\"white\")\n",
    "    new_seg.penup()\n",
    "    new_seg.goto(i)\n",
    "    segments.append(new_seg)"
   ]
  },
  {
   "cell_type": "code",
   "execution_count": 9,
   "id": "ce1a15b8",
   "metadata": {},
   "outputs": [],
   "source": [
    "for i in starting_pos:\n",
    "    add_segment(i)"
   ]
  },
  {
   "cell_type": "code",
   "execution_count": 10,
   "id": "067418cc",
   "metadata": {},
   "outputs": [],
   "source": [
    "class Food(Turtle):\n",
    "    def __init__(self):\n",
    "        super().__init__()\n",
    "        self.shape(\"circle\")\n",
    "        self.penup()\n",
    "        self.shapesize(stretch_len = 0.5, stretch_wid = 0.5)\n",
    "        self.color(\"blue\")\n",
    "        self.speed(\"fastest\")\n",
    "        self.refresh()\n",
    "    def refresh(self):\n",
    "        random_x = random.randint(-260,260)\n",
    "        random_y = random.randint(-260,260)\n",
    "        self.goto(random_x,random_y)\n",
    "        "
   ]
  },
  {
   "cell_type": "code",
   "execution_count": 11,
   "id": "53d920d9",
   "metadata": {},
   "outputs": [],
   "source": [
    "class Scoreboard(Turtle):\n",
    "    def __init__(self):\n",
    "        super().__init__()\n",
    "        self.score = 0\n",
    "        self.color(\"white\")\n",
    "        self.penup()\n",
    "        self.goto(0,260)\n",
    "        self.write(f\"Score: {self.score}\", align = \"center\", font = (\"Arial\", 18, \"normal\"))\n",
    "        self.hideturtle()\n",
    "    def increase_score(self):\n",
    "        self.score += 1\n",
    "        self.clear()\n",
    "        self.write(f\"Score: {self.score}\", align = \"center\", font = (\"Arial\", 18, \"normal\"))\n",
    "    def game_over(self):\n",
    "        self.goto(0,0)\n",
    "        self.write(\"GAME OVER!\", align = \"center\", font = (\"Arial\", 22, \"normal\"))"
   ]
  },
  {
   "cell_type": "code",
   "execution_count": 12,
   "id": "07bf3ae0",
   "metadata": {},
   "outputs": [],
   "source": [
    "food = Food()"
   ]
  },
  {
   "cell_type": "code",
   "execution_count": 13,
   "id": "9296b9fd",
   "metadata": {},
   "outputs": [],
   "source": [
    "scr = Scoreboard()"
   ]
  },
  {
   "cell_type": "code",
   "execution_count": 14,
   "id": "ee3fa50f",
   "metadata": {},
   "outputs": [],
   "source": [
    "is_game_on = True\n",
    "while is_game_on:\n",
    "    screen.update()\n",
    "    time.sleep(0.5)\n",
    "    for seg in range(len(segments)-1, 0,-1):\n",
    "        new_x = segments[seg - 1].xcor()\n",
    "        new_y = segments[seg - 1].ycor()\n",
    "        segments[seg].goto(new_x,new_y)\n",
    "    segments[0].forward(20)\n",
    "    if segments[0].distance(food) < 15:\n",
    "        food.refresh()\n",
    "        add_segment(segments[-1].position())\n",
    "        scr.increase_score()\n",
    "    if segments[0].xcor() > 290 or segments[0].xcor() < -290 or segments[0].ycor() > 290 or segments[0].ycor() < -290:\n",
    "        is_game_on = False\n",
    "        scr.game_over()\n",
    "    for segment in segments[1:]:\n",
    "        if segments[0].distance(segment) < 10:\n",
    "            is_game_on = False\n",
    "            scr.game_over()\n",
    "            "
   ]
  }
 ],
 "metadata": {
  "kernelspec": {
   "display_name": "Python 3 (ipykernel)",
   "language": "python",
   "name": "python3"
  },
  "language_info": {
   "codemirror_mode": {
    "name": "ipython",
    "version": 3
   },
   "file_extension": ".py",
   "mimetype": "text/x-python",
   "name": "python",
   "nbconvert_exporter": "python",
   "pygments_lexer": "ipython3",
   "version": "3.9.7"
  }
 },
 "nbformat": 4,
 "nbformat_minor": 5
}

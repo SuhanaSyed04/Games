{
 "cells": [
  {
   "cell_type": "code",
   "execution_count": 1,
   "id": "2ecc4f5f",
   "metadata": {},
   "outputs": [],
   "source": [
    "from turtle import Turtle,Screen"
   ]
  },
  {
   "cell_type": "code",
   "execution_count": 2,
   "id": "cc0b675c",
   "metadata": {},
   "outputs": [],
   "source": [
    "import random"
   ]
  },
  {
   "cell_type": "code",
   "execution_count": 3,
   "id": "14ff6c8d",
   "metadata": {},
   "outputs": [],
   "source": [
    "is_game_on = False"
   ]
  },
  {
   "cell_type": "code",
   "execution_count": 4,
   "id": "204dd31b",
   "metadata": {},
   "outputs": [
    {
     "name": "stdout",
     "output_type": "stream",
     "text": [
      "orange\n"
     ]
    }
   ],
   "source": [
    "screen = Screen()\n",
    "screen.setup(height = 500, width = 400)\n",
    "user_bet = screen.textinput(title = \"Make your bet!\", prompt = \"Enter which title will win the race(Enter a color) : \")\n",
    "print(user_bet)"
   ]
  },
  {
   "cell_type": "code",
   "execution_count": 5,
   "id": "eae51b92",
   "metadata": {},
   "outputs": [],
   "source": [
    "if user_bet:\n",
    "    is_game_on = True"
   ]
  },
  {
   "cell_type": "code",
   "execution_count": 6,
   "id": "216c6ef1",
   "metadata": {},
   "outputs": [],
   "source": [
    "colors = [\"red\",\"blue\",\"orange\",\"yellow\",\"green\",\"pink\"]\n",
    "y_pos = [-120,-80,-40,0,40,80]"
   ]
  },
  {
   "cell_type": "code",
   "execution_count": 7,
   "id": "f43916de",
   "metadata": {},
   "outputs": [],
   "source": [
    "turtles = []"
   ]
  },
  {
   "cell_type": "code",
   "execution_count": 8,
   "id": "4a591c61",
   "metadata": {},
   "outputs": [],
   "source": [
    "for i in range(0,6):\n",
    "    tim = Turtle()\n",
    "    tim.shape(\"turtle\")\n",
    "    tim.color(colors[i])\n",
    "    tim.penup()\n",
    "    tim.goto(x=-180,y=y_pos[i])\n",
    "    turtles.append(tim)"
   ]
  },
  {
   "cell_type": "code",
   "execution_count": 9,
   "id": "28e770fd",
   "metadata": {},
   "outputs": [
    {
     "name": "stdout",
     "output_type": "stream",
     "text": [
      "Sorry!You've lost the race. The winner is green\n"
     ]
    }
   ],
   "source": [
    "while is_game_on:\n",
    "    for turtle in turtles:\n",
    "        if turtle.xcor() >160:\n",
    "            is_game_on = False\n",
    "            winner = turtle.pencolor()\n",
    "            if winner == user_bet:\n",
    "                print(f\"You've won the race! The winner is {winner}\")\n",
    "            else:\n",
    "                print(f\"Sorry! You've lost the race. The winner is {winner}\")\n",
    "        steps = random.randint(0,10)\n",
    "        turtle.forward(steps)"
   ]
  }
 ],
 "metadata": {
  "kernelspec": {
   "display_name": "Python 3 (ipykernel)",
   "language": "python",
   "name": "python3"
  },
  "language_info": {
   "codemirror_mode": {
    "name": "ipython",
    "version": 3
   },
   "file_extension": ".py",
   "mimetype": "text/x-python",
   "name": "python",
   "nbconvert_exporter": "python",
   "pygments_lexer": "ipython3",
   "version": "3.9.7"
  }
 },
 "nbformat": 4,
 "nbformat_minor": 5
}

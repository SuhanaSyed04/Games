{
 "cells": [
  {
   "cell_type": "code",
   "execution_count": 1,
   "id": "33c999b2",
   "metadata": {},
   "outputs": [],
   "source": [
    "\n",
    "from turtle import Turtle, Screen\n"
   ]
  },
  {
   "cell_type": "code",
   "execution_count": 2,
   "id": "ddb03a76",
   "metadata": {},
   "outputs": [],
   "source": [
    "import time\n",
    "import random"
   ]
  },
  {
   "cell_type": "code",
   "execution_count": 3,
   "id": "ed8aee0f",
   "metadata": {},
   "outputs": [],
   "source": [
    "screen = Screen()\n",
    "screen.setup(width =600,height =600)\n",
    "screen.bgcolor(\"white\")\n",
    "screen.title(\"Turtle Crossing Game\")\n",
    "screen.tracer(0)"
   ]
  },
  {
   "cell_type": "code",
   "execution_count": 4,
   "id": "f284507d",
   "metadata": {},
   "outputs": [],
   "source": [
    "STARTING_POSITION = (0,-280)\n",
    "MOVE_DISTANCE = 10\n",
    "FINISH_LINE_Y = 280\n",
    "\n",
    "class Player(Turtle):\n",
    "    def __init__(self):\n",
    "        super().__init__()\n",
    "        self.shape(\"turtle\")\n",
    "        self.color(\"black\")\n",
    "        self.penup()\n",
    "        self.go_to_start()\n",
    "    def Up(self):\n",
    "        self.forward(MOVE_DISTANCE)\n",
    "    def go_to_start(self):\n",
    "        self.goto(STARTING_POSITION)\n",
    "        self.setheading(90)\n",
    "    def is_at_finish_line(self):\n",
    "        if self.ycor() > FINISH_LINE_Y:\n",
    "            return True\n",
    "        else:\n",
    "            return False"
   ]
  },
  {
   "cell_type": "code",
   "execution_count": 5,
   "id": "505d44ee",
   "metadata": {},
   "outputs": [],
   "source": [
    "player = Player()"
   ]
  },
  {
   "cell_type": "code",
   "execution_count": 6,
   "id": "8c676037",
   "metadata": {},
   "outputs": [],
   "source": [
    "from turtle import Turtle\n",
    "colors = [\"red\",\"orange\",\"purple\",\"blue\",\"yellow\",\"pink\",\"green\",\"black\"]\n",
    "STARTING_MOVE_DISTANCE = 5\n",
    "MOVE_INCREMENT = 10\n",
    "\n",
    "class CarManager():\n",
    "    def __init__(self):\n",
    "        self.all_cars = []\n",
    "        self.car_speed = STARTING_MOVE_DISTANCE\n",
    "        \n",
    "    def Create(self):\n",
    "        random_chance = random.randint(1, 6)\n",
    "        if random_chance == 1:\n",
    "            new_car=Turtle()\n",
    "            new_car.shape(\"square\")\n",
    "            new_car.shapesize(stretch_wid=1, stretch_len=2)\n",
    "            new_car.penup()\n",
    "            new_car.color(random.choice(colors))\n",
    "            random_y = random.randint(-250, 250)\n",
    "            new_car.goto(300, random_y)\n",
    "            self.all_cars.append(new_car)\n",
    "        \n",
    "    def move(self):\n",
    "        for car in self.all_cars:\n",
    "            car.backward(self.car_speed)\n",
    "    def level_up(self):\n",
    "        self.car_speed += MOVE_INCREMENT\n",
    "        "
   ]
  },
  {
   "cell_type": "code",
   "execution_count": 7,
   "id": "6b3cbfbe",
   "metadata": {},
   "outputs": [],
   "source": [
    "car1 = CarManager()"
   ]
  },
  {
   "cell_type": "code",
   "execution_count": 8,
   "id": "23e350c4",
   "metadata": {},
   "outputs": [],
   "source": [
    "FONT =(\"Courier\",24,\"normal\")\n",
    "\n",
    "class ScoreBoard(Turtle):\n",
    "    def __init__(self):\n",
    "        super().__init__()\n",
    "        self.level = 1\n",
    "        self.hideturtle()\n",
    "        self.penup()\n",
    "        self.goto(-260,250)\n",
    "        self.update_score()\n",
    "        \n",
    "    def update_score(self):\n",
    "        self.clear()\n",
    "        self.write(f\"Level: {self.level}\", align = \"left\", font = FONT)\n",
    "        \n",
    "    def increase_level(self):\n",
    "        self.level += 1\n",
    "        self.update_score()\n",
    "    \n",
    "    def game_over(self):\n",
    "        self.goto(0,0)\n",
    "        self.write(\"Game Over!\", align = \"center\", font = FONT)\n",
    "        "
   ]
  },
  {
   "cell_type": "code",
   "execution_count": 9,
   "id": "eecc6e63",
   "metadata": {
    "scrolled": false
   },
   "outputs": [],
   "source": [
    "scoreboard = ScoreBoard()"
   ]
  },
  {
   "cell_type": "code",
   "execution_count": 10,
   "id": "4c9aa6ad",
   "metadata": {
    "scrolled": true
   },
   "outputs": [],
   "source": [
    "is_game_on = True\n",
    "\n",
    "while is_game_on:\n",
    "    time.sleep(0.1)\n",
    "    screen.update()\n",
    "    screen.listen()\n",
    "    screen.onkey(player.Up, \"Up\")\n",
    "    car1.Create()\n",
    "    car1.move()\n",
    "    \n",
    "    #detect collisoion with cars\n",
    "    for car in car1.all_cars:\n",
    "        if car.distance(player) < 20:\n",
    "            is_game_on = False\n",
    "            scoreboard.game_over()\n",
    "    \n",
    "    if player.is_at_finish_line():\n",
    "        player.go_to_start()\n",
    "        car1.level_up()\n",
    "        scoreboard.increase_level()\n",
    "            \n",
    "        "
   ]
  },
  {
   "cell_type": "code",
   "execution_count": null,
   "id": "e917c92f",
   "metadata": {},
   "outputs": [],
   "source": []
  }
 ],
 "metadata": {
  "kernelspec": {
   "display_name": "Python 3 (ipykernel)",
   "language": "python",
   "name": "python3"
  },
  "language_info": {
   "codemirror_mode": {
    "name": "ipython",
    "version": 3
   },
   "file_extension": ".py",
   "mimetype": "text/x-python",
   "name": "python",
   "nbconvert_exporter": "python",
   "pygments_lexer": "ipython3",
   "version": "3.9.7"
  }
 },
 "nbformat": 4,
 "nbformat_minor": 5
}
